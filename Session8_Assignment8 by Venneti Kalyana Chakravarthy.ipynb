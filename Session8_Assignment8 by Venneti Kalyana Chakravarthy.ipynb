{
 "cells": [
  {
   "cell_type": "code",
   "execution_count": 9,
   "metadata": {},
   "outputs": [
    {
     "name": "stdout",
     "output_type": "stream",
     "text": [
      "Output \n",
      "\n",
      "Dataframe input column values are \n",
      " [7, 2, 0, 3, 4, 2, 5, 0, 3, 4] \n",
      "\n",
      "The Counter position for available zero in dataframe column is \n",
      " [1, 2, 0, 1, 2, 3, 4, 0, 1, 2] \n",
      "\n",
      "Output DataFrame \n",
      "\n"
     ]
    },
    {
     "data": {
      "text/html": [
       "<div>\n",
       "<style scoped>\n",
       "    .dataframe tbody tr th:only-of-type {\n",
       "        vertical-align: middle;\n",
       "    }\n",
       "\n",
       "    .dataframe tbody tr th {\n",
       "        vertical-align: top;\n",
       "    }\n",
       "\n",
       "    .dataframe thead th {\n",
       "        text-align: right;\n",
       "    }\n",
       "</style>\n",
       "<table border=\"1\" class=\"dataframe\">\n",
       "  <thead>\n",
       "    <tr style=\"text-align: right;\">\n",
       "      <th></th>\n",
       "      <th>X</th>\n",
       "      <th>Y</th>\n",
       "    </tr>\n",
       "  </thead>\n",
       "  <tbody>\n",
       "    <tr>\n",
       "      <th>0</th>\n",
       "      <td>7</td>\n",
       "      <td>1</td>\n",
       "    </tr>\n",
       "    <tr>\n",
       "      <th>1</th>\n",
       "      <td>2</td>\n",
       "      <td>2</td>\n",
       "    </tr>\n",
       "    <tr>\n",
       "      <th>2</th>\n",
       "      <td>0</td>\n",
       "      <td>0</td>\n",
       "    </tr>\n",
       "    <tr>\n",
       "      <th>3</th>\n",
       "      <td>3</td>\n",
       "      <td>1</td>\n",
       "    </tr>\n",
       "    <tr>\n",
       "      <th>4</th>\n",
       "      <td>4</td>\n",
       "      <td>2</td>\n",
       "    </tr>\n",
       "    <tr>\n",
       "      <th>5</th>\n",
       "      <td>2</td>\n",
       "      <td>3</td>\n",
       "    </tr>\n",
       "    <tr>\n",
       "      <th>6</th>\n",
       "      <td>5</td>\n",
       "      <td>4</td>\n",
       "    </tr>\n",
       "    <tr>\n",
       "      <th>7</th>\n",
       "      <td>0</td>\n",
       "      <td>0</td>\n",
       "    </tr>\n",
       "    <tr>\n",
       "      <th>8</th>\n",
       "      <td>3</td>\n",
       "      <td>1</td>\n",
       "    </tr>\n",
       "    <tr>\n",
       "      <th>9</th>\n",
       "      <td>4</td>\n",
       "      <td>2</td>\n",
       "    </tr>\n",
       "  </tbody>\n",
       "</table>\n",
       "</div>"
      ],
      "text/plain": [
       "   X  Y\n",
       "0  7  1\n",
       "1  2  2\n",
       "2  0  0\n",
       "3  3  1\n",
       "4  4  2\n",
       "5  2  3\n",
       "6  5  4\n",
       "7  0  0\n",
       "8  3  1\n",
       "9  4  2"
      ]
     },
     "execution_count": 9,
     "metadata": {},
     "output_type": "execute_result"
    }
   ],
   "source": [
    "#Question 1: How-to-count-distance-to-the-previous-zero For each value, count the difference of the distance from \n",
    "#the previous zero (or the start of the Series, whichever is closer) and if there are no previous zeros, print the position\n",
    "#Consider a DataFrame df where there is an integer column {'X':[7, 2, 0, 3, 4, 2, 5, 0, 3, 4]}\n",
    "#The values should therefore be [1, 2, 0, 1, 2, 3, 4, 0, 1, 2]. Make this a new column 'Y'. \n",
    "#import pandas as pd\n",
    "#df = pd.DataFrame({'X': [7, 2, 0, 3, 4, 2, 5, 0, 3, 4]})\n",
    "\n",
    "import pandas as pd\n",
    "df=pd.DataFrame({'X':[7,2,0,3,4,2,5,0,3,4]})\n",
    "df_series=df['X']\n",
    "x=[(df_series.tolist() [i::-1]+[0]).index(0) for i in range(len(df_series.tolist()))]\n",
    "df['Y']=x\n",
    "\n",
    "print(\"Output \\n\")\n",
    "print(\"Dataframe input column values are \\n\",df['X'].tolist(),\"\\n\")\n",
    "print(\"The Counter position for available zero in dataframe column is \\n\",x,\"\\n\")\n",
    "print(\"Output DataFrame \\n\")\n",
    "df"
   ]
  },
  {
   "cell_type": "code",
   "execution_count": 14,
   "metadata": {},
   "outputs": [
    {
     "name": "stdout",
     "output_type": "stream",
     "text": [
      "Output: \n",
      "\n",
      "Few observations of series object are \n",
      " 2015-01-01    0.253203\n",
      "2015-01-02    0.977036\n",
      "2015-01-05    0.630536\n",
      "2015-01-06    0.064277\n",
      "2015-01-07    0.503640\n",
      "Freq: B, dtype: float64 \n",
      "\n",
      "Index of series object are \n",
      " DatetimeIndex(['2015-01-01', '2015-01-02', '2015-01-05', '2015-01-06',\n",
      "               '2015-01-07', '2015-01-08', '2015-01-09', '2015-01-12',\n",
      "               '2015-01-13', '2015-01-14',\n",
      "               ...\n",
      "               '2015-12-18', '2015-12-21', '2015-12-22', '2015-12-23',\n",
      "               '2015-12-24', '2015-12-25', '2015-12-28', '2015-12-29',\n",
      "               '2015-12-30', '2015-12-31'],\n",
      "              dtype='datetime64[ns]', length=261, freq='B')\n"
     ]
    }
   ],
   "source": [
    "#Question 2: Create a DatetimeIndex that contains each business day of 2015 and use it to index a Series of random numbers\n",
    "\n",
    "import pandas as pd\n",
    "import numpy as np\n",
    "\n",
    "Datedata=pd.date_range(start='2015-01-01', end='2015-12-31', freq='B')\n",
    "randomNum=np.random.rand(len(Datedata))\n",
    "s=pd.Series(randomNum, index=Datedata)\n",
    "\n",
    "print(\"Output: \\n\")\n",
    "print(\"Few observations of series object are \\n\",s.head(), \"\\n\")\n",
    "print(\"Index of series object are \\n\", s.index)"
   ]
  },
  {
   "cell_type": "code",
   "execution_count": 17,
   "metadata": {},
   "outputs": [
    {
     "name": "stdout",
     "output_type": "stream",
     "text": [
      "Output: \n",
      "\n",
      "Sum of values for Wednesday in s:\n"
     ]
    },
    {
     "data": {
      "text/plain": [
       "26.107642031367106"
      ]
     },
     "execution_count": 17,
     "metadata": {},
     "output_type": "execute_result"
    }
   ],
   "source": [
    "# Question 3: Find the sum of the values in s for every Wednesday\n",
    "\n",
    "s[Datedata.weekday_name=='Wednesday'].head()\n",
    "print(\"Output: \\n\")\n",
    "print(\"Sum of values for Wednesday in s:\") \n",
    "s[Datedata.weekday_name=='Wednesday'].sum()"
   ]
  },
  {
   "cell_type": "code",
   "execution_count": 21,
   "metadata": {},
   "outputs": [
    {
     "name": "stdout",
     "output_type": "stream",
     "text": [
      "Output: \n",
      "\n"
     ]
    },
    {
     "data": {
      "text/plain": [
       "2015-01-31    0.490667\n",
       "2015-02-28    0.497498\n",
       "2015-03-31    0.522979\n",
       "2015-04-30    0.388475\n",
       "2015-05-31    0.451520\n",
       "2015-06-30    0.452825\n",
       "2015-07-31    0.476003\n",
       "2015-08-31    0.467678\n",
       "2015-09-30    0.351927\n",
       "2015-10-31    0.551711\n",
       "2015-11-30    0.369899\n",
       "2015-12-31    0.511998\n",
       "Freq: M, dtype: float64"
      ]
     },
     "execution_count": 21,
     "metadata": {},
     "output_type": "execute_result"
    }
   ],
   "source": [
    "# Question 4: Average For each calendar month\n",
    "print(\"Output: \\n\")\n",
    "s.resample('M', convention='end').mean()"
   ]
  },
  {
   "cell_type": "code",
   "execution_count": 25,
   "metadata": {},
   "outputs": [
    {
     "name": "stdout",
     "output_type": "stream",
     "text": [
      "Output: \n",
      "\n",
      "Duration of consecutive 4 months, till that highest value recorded: \n",
      "\n",
      "2015-01-31   2015-01-02\n",
      "2015-05-31   2015-02-25\n",
      "2015-09-30   2015-06-08\n",
      "2016-01-31   2015-10-19\n",
      "dtype: datetime64[ns] \n",
      "\n",
      "Maximum value for the recorded date: \n",
      "\n",
      "2015-01-02    0.977036\n",
      "2015-02-25    0.998477\n",
      "2015-06-08    0.987201\n",
      "2015-10-19    0.983314\n",
      "dtype: float64\n"
     ]
    }
   ],
   "source": [
    "# Question 5: For each group of four consecutive calendar months in s, find the date on which the highest value occurred\n",
    "\n",
    "print(\"Output: \\n\")\n",
    "print(\"Duration of consecutive 4 months, till that highest value recorded: \\n\")\n",
    "print(s.groupby(pd.Grouper(freq='4M')).idxmax(), \"\\n\")\n",
    "print(\"Maximum value for the recorded date: \\n\")\n",
    "print(s[s.groupby(pd.Grouper(freq='4M')).idxmax()])"
   ]
  }
 ],
 "metadata": {
  "kernelspec": {
   "display_name": "Python 3",
   "language": "python",
   "name": "python3"
  },
  "language_info": {
   "codemirror_mode": {
    "name": "ipython",
    "version": 3
   },
   "file_extension": ".py",
   "mimetype": "text/x-python",
   "name": "python",
   "nbconvert_exporter": "python",
   "pygments_lexer": "ipython3",
   "version": "3.6.6"
  }
 },
 "nbformat": 4,
 "nbformat_minor": 2
}
